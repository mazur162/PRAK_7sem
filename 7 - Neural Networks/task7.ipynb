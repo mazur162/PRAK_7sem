{
 "cells": [
  {
   "cell_type": "code",
   "execution_count": 1,
   "id": "b1394cd8-3951-43f2-ba47-b2808ff01f5a",
   "metadata": {},
   "outputs": [],
   "source": [
    "import torch.nn as nn\n",
    "import torch"
   ]
  },
  {
   "cell_type": "code",
   "execution_count": 2,
   "id": "01bccf78-0e59-4d0d-bfb6-38bbd9e0a914",
   "metadata": {},
   "outputs": [],
   "source": [
    "import numpy as np\n",
    "import pandas as pd\n",
    "import matplotlib.pyplot as plt\n",
    "from tqdm.auto import tqdm, trange"
   ]
  },
  {
   "cell_type": "code",
   "execution_count": 3,
   "id": "b4f7268f-b670-4850-8b6e-79e1106cb739",
   "metadata": {},
   "outputs": [],
   "source": [
    "from sklearn.neural_network import MLPClassifier"
   ]
  },
  {
   "cell_type": "code",
   "execution_count": 4,
   "id": "41e3a3e0-eae5-496a-a0a1-73665ed47e8d",
   "metadata": {},
   "outputs": [],
   "source": [
    "var = 9"
   ]
  },
  {
   "cell_type": "code",
   "execution_count": 15,
   "id": "ea422b08-65b5-4608-b84d-bbd44ce5c8a5",
   "metadata": {},
   "outputs": [],
   "source": [
    "data = pd.read_csv(\"train_var_9.csv\")"
   ]
  },
  {
   "cell_type": "code",
   "execution_count": 6,
   "id": "f68c77c8-d55c-4219-9c33-d7a0e821ee61",
   "metadata": {},
   "outputs": [
    {
     "data": {
      "text/html": [
       "<div>\n",
       "<style scoped>\n",
       "    .dataframe tbody tr th:only-of-type {\n",
       "        vertical-align: middle;\n",
       "    }\n",
       "\n",
       "    .dataframe tbody tr th {\n",
       "        vertical-align: top;\n",
       "    }\n",
       "\n",
       "    .dataframe thead th {\n",
       "        text-align: right;\n",
       "    }\n",
       "</style>\n",
       "<table border=\"1\" class=\"dataframe\">\n",
       "  <thead>\n",
       "    <tr style=\"text-align: right;\">\n",
       "      <th></th>\n",
       "      <th>x1</th>\n",
       "      <th>x2</th>\n",
       "      <th>x3</th>\n",
       "      <th>f</th>\n",
       "    </tr>\n",
       "  </thead>\n",
       "  <tbody>\n",
       "    <tr>\n",
       "      <th>0</th>\n",
       "      <td>0.097915</td>\n",
       "      <td>0.095228</td>\n",
       "      <td>2.035907</td>\n",
       "      <td>C</td>\n",
       "    </tr>\n",
       "    <tr>\n",
       "      <th>1</th>\n",
       "      <td>0.995634</td>\n",
       "      <td>0.024319</td>\n",
       "      <td>2.332655</td>\n",
       "      <td>D</td>\n",
       "    </tr>\n",
       "    <tr>\n",
       "      <th>2</th>\n",
       "      <td>0.320553</td>\n",
       "      <td>1.843717</td>\n",
       "      <td>1.660744</td>\n",
       "      <td>D</td>\n",
       "    </tr>\n",
       "    <tr>\n",
       "      <th>3</th>\n",
       "      <td>0.397726</td>\n",
       "      <td>0.868866</td>\n",
       "      <td>0.603807</td>\n",
       "      <td>A</td>\n",
       "    </tr>\n",
       "    <tr>\n",
       "      <th>4</th>\n",
       "      <td>0.553225</td>\n",
       "      <td>1.397404</td>\n",
       "      <td>0.896461</td>\n",
       "      <td>C</td>\n",
       "    </tr>\n",
       "  </tbody>\n",
       "</table>\n",
       "</div>"
      ],
      "text/plain": [
       "         x1        x2        x3  f\n",
       "0  0.097915  0.095228  2.035907  C\n",
       "1  0.995634  0.024319  2.332655  D\n",
       "2  0.320553  1.843717  1.660744  D\n",
       "3  0.397726  0.868866  0.603807  A\n",
       "4  0.553225  1.397404  0.896461  C"
      ]
     },
     "execution_count": 6,
     "metadata": {},
     "output_type": "execute_result"
    }
   ],
   "source": [
    "data.head()"
   ]
  },
  {
   "cell_type": "code",
   "execution_count": 16,
   "id": "51410dbd-390c-444c-8d67-d9780f46075a",
   "metadata": {},
   "outputs": [],
   "source": [
    "from sklearn.model_selection import train_test_split, cross_val_score"
   ]
  },
  {
   "cell_type": "code",
   "execution_count": 17,
   "id": "33353ee1-9ed3-49ee-873e-a615a6ff974d",
   "metadata": {},
   "outputs": [],
   "source": [
    "from sklearn.preprocessing import StandardScaler, PolynomialFeatures, MinMaxScaler\n",
    "from sklearn.pipeline import Pipeline"
   ]
  },
  {
   "cell_type": "code",
   "execution_count": 18,
   "id": "70e1268f-15db-4305-b766-431f5e62d5bd",
   "metadata": {},
   "outputs": [],
   "source": [
    "good = Pipeline((('scaler', MinMaxScaler()), ('clf', MLPClassifier(max_iter=3000, activation='tanh', hidden_layer_sizes=(100, 100), solver='lbfgs', ))))"
   ]
  },
  {
   "cell_type": "code",
   "execution_count": 19,
   "id": "8631ba0e-807d-4685-bfb7-3f08a98565d5",
   "metadata": {},
   "outputs": [],
   "source": [
    "X = data[['x1', 'x2', 'x3']]\n",
    "y = data['f']"
   ]
  },
  {
   "cell_type": "code",
   "execution_count": 20,
   "id": "00bec0e5-f309-43f7-9a91-87053b3f4798",
   "metadata": {},
   "outputs": [
    {
     "data": {
      "text/plain": [
       "0.9766666666666668"
      ]
     },
     "execution_count": 20,
     "metadata": {},
     "output_type": "execute_result"
    }
   ],
   "source": [
    "cross_val_score(good, X=X, y=y, n_jobs=2).mean()"
   ]
  },
  {
   "cell_type": "code",
   "execution_count": 21,
   "id": "7fcc85f5-6b92-403d-82bc-9bd4a2ab4677",
   "metadata": {},
   "outputs": [
    {
     "data": {
      "text/plain": [
       "Pipeline(steps=[('scaler', MinMaxScaler()),\n",
       "                ('clf',\n",
       "                 MLPClassifier(activation='tanh', hidden_layer_sizes=(100, 100),\n",
       "                               max_iter=3000, solver='lbfgs'))])"
      ]
     },
     "execution_count": 21,
     "metadata": {},
     "output_type": "execute_result"
    }
   ],
   "source": [
    "clf = Pipeline((('scaler', MinMaxScaler()), ('clf', MLPClassifier(max_iter=3000, activation='tanh', hidden_layer_sizes=(100, 100), solver='lbfgs', ))))\n",
    "clf.fit(X, y)"
   ]
  },
  {
   "cell_type": "code",
   "execution_count": 22,
   "id": "5885f4a1-2141-45d4-892e-7adde338c33e",
   "metadata": {},
   "outputs": [
    {
     "data": {
      "text/html": [
       "<div>\n",
       "<style scoped>\n",
       "    .dataframe tbody tr th:only-of-type {\n",
       "        vertical-align: middle;\n",
       "    }\n",
       "\n",
       "    .dataframe tbody tr th {\n",
       "        vertical-align: top;\n",
       "    }\n",
       "\n",
       "    .dataframe thead th {\n",
       "        text-align: right;\n",
       "    }\n",
       "</style>\n",
       "<table border=\"1\" class=\"dataframe\">\n",
       "  <thead>\n",
       "    <tr style=\"text-align: right;\">\n",
       "      <th></th>\n",
       "      <th>x1</th>\n",
       "      <th>x2</th>\n",
       "      <th>x3</th>\n",
       "    </tr>\n",
       "  </thead>\n",
       "  <tbody>\n",
       "    <tr>\n",
       "      <th>0</th>\n",
       "      <td>0.796158</td>\n",
       "      <td>1.243306</td>\n",
       "      <td>0.257849</td>\n",
       "    </tr>\n",
       "    <tr>\n",
       "      <th>1</th>\n",
       "      <td>0.063555</td>\n",
       "      <td>0.777217</td>\n",
       "      <td>2.329269</td>\n",
       "    </tr>\n",
       "    <tr>\n",
       "      <th>2</th>\n",
       "      <td>0.038768</td>\n",
       "      <td>1.436683</td>\n",
       "      <td>0.962129</td>\n",
       "    </tr>\n",
       "    <tr>\n",
       "      <th>3</th>\n",
       "      <td>0.419080</td>\n",
       "      <td>1.192943</td>\n",
       "      <td>1.461746</td>\n",
       "    </tr>\n",
       "    <tr>\n",
       "      <th>4</th>\n",
       "      <td>0.913736</td>\n",
       "      <td>1.802542</td>\n",
       "      <td>2.879907</td>\n",
       "    </tr>\n",
       "    <tr>\n",
       "      <th>...</th>\n",
       "      <td>...</td>\n",
       "      <td>...</td>\n",
       "      <td>...</td>\n",
       "    </tr>\n",
       "    <tr>\n",
       "      <th>195</th>\n",
       "      <td>0.411374</td>\n",
       "      <td>0.988186</td>\n",
       "      <td>1.005453</td>\n",
       "    </tr>\n",
       "    <tr>\n",
       "      <th>196</th>\n",
       "      <td>0.202187</td>\n",
       "      <td>1.483218</td>\n",
       "      <td>0.419149</td>\n",
       "    </tr>\n",
       "    <tr>\n",
       "      <th>197</th>\n",
       "      <td>0.766292</td>\n",
       "      <td>1.697947</td>\n",
       "      <td>1.592220</td>\n",
       "    </tr>\n",
       "    <tr>\n",
       "      <th>198</th>\n",
       "      <td>0.413054</td>\n",
       "      <td>0.717495</td>\n",
       "      <td>1.845131</td>\n",
       "    </tr>\n",
       "    <tr>\n",
       "      <th>199</th>\n",
       "      <td>0.380289</td>\n",
       "      <td>0.538727</td>\n",
       "      <td>0.572335</td>\n",
       "    </tr>\n",
       "  </tbody>\n",
       "</table>\n",
       "<p>200 rows × 3 columns</p>\n",
       "</div>"
      ],
      "text/plain": [
       "           x1        x2        x3\n",
       "0    0.796158  1.243306  0.257849\n",
       "1    0.063555  0.777217  2.329269\n",
       "2    0.038768  1.436683  0.962129\n",
       "3    0.419080  1.192943  1.461746\n",
       "4    0.913736  1.802542  2.879907\n",
       "..        ...       ...       ...\n",
       "195  0.411374  0.988186  1.005453\n",
       "196  0.202187  1.483218  0.419149\n",
       "197  0.766292  1.697947  1.592220\n",
       "198  0.413054  0.717495  1.845131\n",
       "199  0.380289  0.538727  0.572335\n",
       "\n",
       "[200 rows x 3 columns]"
      ]
     },
     "execution_count": 22,
     "metadata": {},
     "output_type": "execute_result"
    }
   ],
   "source": [
    "data_test = pd.read_csv(\"test_var_9.csv\")\n",
    "data_test"
   ]
  },
  {
   "cell_type": "code",
   "execution_count": 23,
   "id": "d91e20ea-789f-4020-960b-68b7c68ac9fc",
   "metadata": {},
   "outputs": [
    {
     "data": {
      "text/html": [
       "<div>\n",
       "<style scoped>\n",
       "    .dataframe tbody tr th:only-of-type {\n",
       "        vertical-align: middle;\n",
       "    }\n",
       "\n",
       "    .dataframe tbody tr th {\n",
       "        vertical-align: top;\n",
       "    }\n",
       "\n",
       "    .dataframe thead th {\n",
       "        text-align: right;\n",
       "    }\n",
       "</style>\n",
       "<table border=\"1\" class=\"dataframe\">\n",
       "  <thead>\n",
       "    <tr style=\"text-align: right;\">\n",
       "      <th></th>\n",
       "      <th>Factor</th>\n",
       "    </tr>\n",
       "  </thead>\n",
       "  <tbody>\n",
       "    <tr>\n",
       "      <th>0</th>\n",
       "      <td>C</td>\n",
       "    </tr>\n",
       "    <tr>\n",
       "      <th>1</th>\n",
       "      <td>D</td>\n",
       "    </tr>\n",
       "    <tr>\n",
       "      <th>2</th>\n",
       "      <td>C</td>\n",
       "    </tr>\n",
       "    <tr>\n",
       "      <th>3</th>\n",
       "      <td>D</td>\n",
       "    </tr>\n",
       "    <tr>\n",
       "      <th>4</th>\n",
       "      <td>B</td>\n",
       "    </tr>\n",
       "    <tr>\n",
       "      <th>...</th>\n",
       "      <td>...</td>\n",
       "    </tr>\n",
       "    <tr>\n",
       "      <th>195</th>\n",
       "      <td>C</td>\n",
       "    </tr>\n",
       "    <tr>\n",
       "      <th>196</th>\n",
       "      <td>C</td>\n",
       "    </tr>\n",
       "    <tr>\n",
       "      <th>197</th>\n",
       "      <td>B</td>\n",
       "    </tr>\n",
       "    <tr>\n",
       "      <th>198</th>\n",
       "      <td>C</td>\n",
       "    </tr>\n",
       "    <tr>\n",
       "      <th>199</th>\n",
       "      <td>A</td>\n",
       "    </tr>\n",
       "  </tbody>\n",
       "</table>\n",
       "<p>200 rows × 1 columns</p>\n",
       "</div>"
      ],
      "text/plain": [
       "    Factor\n",
       "0        C\n",
       "1        D\n",
       "2        C\n",
       "3        D\n",
       "4        B\n",
       "..     ...\n",
       "195      C\n",
       "196      C\n",
       "197      B\n",
       "198      C\n",
       "199      A\n",
       "\n",
       "[200 rows x 1 columns]"
      ]
     },
     "execution_count": 23,
     "metadata": {},
     "output_type": "execute_result"
    }
   ],
   "source": [
    "ans = pd.DataFrame(clf.predict(data_test), columns=['Factor'])\n",
    "ans"
   ]
  },
  {
   "cell_type": "code",
   "execution_count": 15,
   "id": "f04b600e-09b3-4524-a45e-cbc09436a038",
   "metadata": {},
   "outputs": [],
   "source": [
    "ans.to_csv(\"ans.csv\", index=False)"
   ]
  }
 ],
 "metadata": {
  "kernelspec": {
   "display_name": "Python 3 (ipykernel)",
   "language": "python",
   "name": "python3"
  },
  "language_info": {
   "codemirror_mode": {
    "name": "ipython",
    "version": 3
   },
   "file_extension": ".py",
   "mimetype": "text/x-python",
   "name": "python",
   "nbconvert_exporter": "python",
   "pygments_lexer": "ipython3",
   "version": "3.9.15"
  }
 },
 "nbformat": 4,
 "nbformat_minor": 5
}
