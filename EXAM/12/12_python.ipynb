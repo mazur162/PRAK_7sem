{
 "cells": [
  {
   "cell_type": "code",
   "execution_count": 12,
   "metadata": {},
   "outputs": [],
   "source": [
    "import QuantLib as ql\n",
    "\n",
    "# Цена базового актива\n",
    "spot_price = 1000\n",
    "\n",
    "# Задается для опциона\n",
    "strike_call = 1000\n",
    "strike_put = 1000\n",
    "\n",
    "# Задается для модели\n",
    "volatility = 0.4\n",
    "risk_free_rate = 0.15\n",
    "dividend_rate = 0.0\n",
    "expiry = 0.5\n",
    "\n",
    "# Даты\n",
    "today = ql.Date().todaysDate()\n",
    "expiration_date = ql.Date(15, 6, 2024)\n",
    "\n",
    "# Объект колл \n",
    "option_call = ql.EuropeanOption(ql.PlainVanillaPayoff(ql.Option.Call, strike_call),\n",
    "                                 ql.EuropeanExercise(expiration_date))\n",
    "option_put = ql.EuropeanOption(ql.PlainVanillaPayoff(ql.Option.Put, strike_put), \n",
    "                               ql.EuropeanExercise(expiration_date))\n",
    "\n",
    "# Используем формулу Black-Scholes для вычисления цены опциона\n",
    "riskFreeTS = ql.YieldTermStructureHandle(ql.FlatForward(today, risk_free_rate, ql.Business252()))\n",
    "volTS = ql.BlackVolTermStructureHandle(ql.BlackConstantVol(today, ql.Russia(), volatility, ql.Business252()))\n",
    "process = ql.BlackScholesProcess(ql.QuoteHandle(ql.SimpleQuote(spot_price)),riskFreeTS, volTS)\n",
    "                                 \n",
    "# Все параметры засовываем в объекты колл и пут\n",
    "option_call.setPricingEngine(ql.AnalyticEuropeanEngine(process))\n",
    "option_put.setPricingEngine(ql.AnalyticEuropeanEngine(process))\n",
    "\n",
    "\n",
    "option_call_price = option_call.NPV()\n",
    "option_put_price = option_put.NPV()\n",
    "\n",
    "option_call_vega = option_call.vega()\n",
    "option_put_vega = option_put.vega()\n"
   ]
  },
  {
   "cell_type": "code",
   "execution_count": 15,
   "metadata": {},
   "outputs": [
    {
     "name": "stdout",
     "output_type": "stream",
     "text": [
      "Цена портфеля:  2234.416818854416\n",
      "Vega портфеля:  5177.052180846287\n"
     ]
    }
   ],
   "source": [
    "print('Цена портфеля: ', 10 * option_call_price + 10 * option_put_price ) \n",
    "print('Vega портфеля: ', 10 * option_call_vega + 10 * option_put_vega)"
   ]
  }
 ],
 "metadata": {
  "kernelspec": {
   "display_name": "py310",
   "language": "python",
   "name": "python3"
  },
  "language_info": {
   "codemirror_mode": {
    "name": "ipython",
    "version": 3
   },
   "file_extension": ".py",
   "mimetype": "text/x-python",
   "name": "python",
   "nbconvert_exporter": "python",
   "pygments_lexer": "ipython3",
   "version": "3.10.6"
  }
 },
 "nbformat": 4,
 "nbformat_minor": 2
}
