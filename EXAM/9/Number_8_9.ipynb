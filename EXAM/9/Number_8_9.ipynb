{
 "cells": [
  {
   "cell_type": "code",
   "execution_count": 47,
   "outputs": [],
   "source": [
    "import numpy as np\n",
    "import pandas as pd\n",
    "from sklearn.linear_model import LogisticRegression, LinearRegression\n",
    "from sklearn.ensemble import RandomForestClassifier, RandomForestRegressor\n",
    "from sklearn.preprocessing import StandardScaler, LabelEncoder\n",
    "from sklearn.metrics import accuracy_score, mean_absolute_error\n",
    "from sklearn.model_selection import train_test_split\n",
    "\n",
    "import warnings\n",
    "\n",
    "warnings.filterwarnings(\"ignore\")"
   ],
   "metadata": {
    "collapsed": false,
    "ExecuteTime": {
     "end_time": "2023-12-14T15:33:57.951490188Z",
     "start_time": "2023-12-14T15:33:57.839713162Z"
    }
   },
   "id": "cdabe8cb820537fb"
  },
  {
   "cell_type": "markdown",
   "source": [
    "## Number 8"
   ],
   "metadata": {
    "collapsed": false
   },
   "id": "e50acdc5d44d8d4b"
  },
  {
   "cell_type": "markdown",
   "source": [
    "**Описание**\n",
    "\n",
    "Используем два метода: логистическая регрессия и случайный лес (для разнообразия вариантов выполнения задания).\n",
    "\n",
    "\n",
    "LabelEncoder используется, чтобы преобразовать метки классов (A, B, C ...) в числа, чтобы модель могла работать с ними.\n",
    "\n",
    "\n",
    "StandardScaler не обязателен к использованию, можно убрать при желании."
   ],
   "metadata": {
    "collapsed": false
   },
   "id": "9d0732ebaabbba34"
  },
  {
   "cell_type": "markdown",
   "source": [
    "### Загрузка данных"
   ],
   "metadata": {
    "collapsed": false
   },
   "id": "55056de61f8c13ac"
  },
  {
   "cell_type": "code",
   "execution_count": 48,
   "outputs": [
    {
     "data": {
      "text/plain": "         x1        x2        x3  f\n0  0.455058  0.146759  2.426221  D\n1  0.403961  1.402071  2.891587  B\n2  0.351298  0.095268  2.263430  C\n3  0.664298  0.600407  0.670098  A\n4  0.463471  1.633033  1.037303  D",
      "text/html": "<div>\n<style scoped>\n    .dataframe tbody tr th:only-of-type {\n        vertical-align: middle;\n    }\n\n    .dataframe tbody tr th {\n        vertical-align: top;\n    }\n\n    .dataframe thead th {\n        text-align: right;\n    }\n</style>\n<table border=\"1\" class=\"dataframe\">\n  <thead>\n    <tr style=\"text-align: right;\">\n      <th></th>\n      <th>x1</th>\n      <th>x2</th>\n      <th>x3</th>\n      <th>f</th>\n    </tr>\n  </thead>\n  <tbody>\n    <tr>\n      <th>0</th>\n      <td>0.455058</td>\n      <td>0.146759</td>\n      <td>2.426221</td>\n      <td>D</td>\n    </tr>\n    <tr>\n      <th>1</th>\n      <td>0.403961</td>\n      <td>1.402071</td>\n      <td>2.891587</td>\n      <td>B</td>\n    </tr>\n    <tr>\n      <th>2</th>\n      <td>0.351298</td>\n      <td>0.095268</td>\n      <td>2.263430</td>\n      <td>C</td>\n    </tr>\n    <tr>\n      <th>3</th>\n      <td>0.664298</td>\n      <td>0.600407</td>\n      <td>0.670098</td>\n      <td>A</td>\n    </tr>\n    <tr>\n      <th>4</th>\n      <td>0.463471</td>\n      <td>1.633033</td>\n      <td>1.037303</td>\n      <td>D</td>\n    </tr>\n  </tbody>\n</table>\n</div>"
     },
     "execution_count": 48,
     "metadata": {},
     "output_type": "execute_result"
    }
   ],
   "source": [
    "df_train = pd.read_csv('./data/train_8.csv')\n",
    "test = pd.read_csv('./data/test_8.csv')\n",
    "df_train.head()"
   ],
   "metadata": {
    "collapsed": false,
    "ExecuteTime": {
     "end_time": "2023-12-14T15:33:58.000018226Z",
     "start_time": "2023-12-14T15:33:57.956149263Z"
    }
   },
   "id": "30724e9a8c6eab48"
  },
  {
   "cell_type": "markdown",
   "source": [
    "### Оценка качества моделей на валидационной выборке"
   ],
   "metadata": {
    "collapsed": false
   },
   "id": "b5c755b76f895422"
  },
  {
   "cell_type": "code",
   "execution_count": 49,
   "outputs": [],
   "source": [
    "encoder = LabelEncoder()\n",
    "X_train, y_train = df_train.drop(columns=['f']), pd.DataFrame(encoder.fit_transform(df_train['f']), columns=['f'])\n",
    "X_train, X_val, y_train, y_val = train_test_split(X_train, y_train)"
   ],
   "metadata": {
    "collapsed": false,
    "ExecuteTime": {
     "end_time": "2023-12-14T15:33:58.005428636Z",
     "start_time": "2023-12-14T15:33:57.999777112Z"
    }
   },
   "id": "66e3d982d9e7af3e"
  },
  {
   "cell_type": "code",
   "execution_count": 50,
   "outputs": [],
   "source": [
    "scaler = StandardScaler()\n",
    "X_train = scaler.fit_transform(X_train, y_train)"
   ],
   "metadata": {
    "collapsed": false,
    "ExecuteTime": {
     "end_time": "2023-12-14T15:33:58.017898302Z",
     "start_time": "2023-12-14T15:33:58.005299004Z"
    }
   },
   "id": "5ebf8d51ecd19b2a"
  },
  {
   "cell_type": "code",
   "execution_count": 51,
   "outputs": [],
   "source": [
    "linear_model = LogisticRegression()\n",
    "linear_model.fit(X_train, y_train.values.ravel())\n",
    "predict = linear_model.predict(scaler.transform(X_val))"
   ],
   "metadata": {
    "collapsed": false,
    "ExecuteTime": {
     "end_time": "2023-12-14T15:33:58.075620926Z",
     "start_time": "2023-12-14T15:33:58.013936812Z"
    }
   },
   "id": "b0692ec5773c0003"
  },
  {
   "cell_type": "code",
   "execution_count": 52,
   "outputs": [
    {
     "name": "stdout",
     "output_type": "stream",
     "text": [
      "Accuracy linear model on validation data = 0.9466666666666667\n"
     ]
    }
   ],
   "source": [
    "print('Accuracy linear model on validation data =', accuracy_score(encoder.inverse_transform(y_val), encoder.inverse_transform(predict)))"
   ],
   "metadata": {
    "collapsed": false,
    "ExecuteTime": {
     "end_time": "2023-12-14T15:33:58.142386797Z",
     "start_time": "2023-12-14T15:33:58.039537428Z"
    }
   },
   "id": "cd8d93308a929d29"
  },
  {
   "cell_type": "code",
   "execution_count": 53,
   "outputs": [],
   "source": [
    "random_fores_classifier = RandomForestClassifier()\n",
    "random_fores_classifier.fit(X_train, y_train)\n",
    "predict = random_fores_classifier.predict(scaler.transform(X_val))"
   ],
   "metadata": {
    "collapsed": false,
    "ExecuteTime": {
     "end_time": "2023-12-14T15:33:58.257630511Z",
     "start_time": "2023-12-14T15:33:58.076549572Z"
    }
   },
   "id": "9a17d662602a359a"
  },
  {
   "cell_type": "code",
   "execution_count": 54,
   "outputs": [
    {
     "name": "stdout",
     "output_type": "stream",
     "text": [
      "Accuracy RFC model on validation data = 0.8266666666666667\n"
     ]
    }
   ],
   "source": [
    "print('Accuracy RFC model on validation data =', accuracy_score(encoder.inverse_transform(y_val), encoder.inverse_transform(predict)))"
   ],
   "metadata": {
    "collapsed": false,
    "ExecuteTime": {
     "end_time": "2023-12-14T15:33:58.306855988Z",
     "start_time": "2023-12-14T15:33:58.228689130Z"
    }
   },
   "id": "632e2e44d42a108f"
  },
  {
   "cell_type": "markdown",
   "source": [
    "### Предсказание с помощью линейной модели "
   ],
   "metadata": {
    "collapsed": false
   },
   "id": "66b42daa21e0b9ef"
  },
  {
   "cell_type": "code",
   "execution_count": 55,
   "outputs": [],
   "source": [
    "encoder = LabelEncoder()\n",
    "X_train, y_train = df_train.drop(columns=['f']), pd.DataFrame(encoder.fit_transform(df_train['f']), columns=['f'])\n",
    "\n",
    "scaler = StandardScaler() # Используем по желанию\n",
    "X_train = scaler.fit_transform(X_train, y_train)\n",
    "\n",
    "linear_model = LogisticRegression()\n",
    "linear_model.fit(X_train, y_train.values.ravel())\n",
    "predict = linear_model.predict(scaler.transform(test))\n",
    "# predict = linear_model.predict(test) Если не используется StandardScaler \n",
    "\n",
    "predict = pd.DataFrame(encoder.inverse_transform(predict), columns=['f'])"
   ],
   "metadata": {
    "collapsed": false,
    "ExecuteTime": {
     "end_time": "2023-12-14T15:33:58.307997546Z",
     "start_time": "2023-12-14T15:33:58.257384161Z"
    }
   },
   "id": "ed298849741a768a"
  },
  {
   "cell_type": "markdown",
   "source": [],
   "metadata": {
    "collapsed": false
   },
   "id": "cd6714ef644a467e"
  },
  {
   "cell_type": "markdown",
   "source": [
    "### Предсказание с помощью случайного леса"
   ],
   "metadata": {
    "collapsed": false
   },
   "id": "864bcb7a7b843cf8"
  },
  {
   "cell_type": "code",
   "execution_count": 56,
   "outputs": [],
   "source": [
    "encoder = LabelEncoder()\n",
    "X_train, y_train = df_train.drop(columns=['f']), pd.DataFrame(encoder.fit_transform(df_train['f']), columns=['f'])\n",
    "\n",
    "scaler = StandardScaler() # Используем по желанию\n",
    "X_train = scaler.fit_transform(X_train, y_train)\n",
    "\n",
    "random_fores_classifier = RandomForestClassifier()\n",
    "random_fores_classifier.fit(X_train, y_train)\n",
    "predict = random_fores_classifier.predict(scaler.transform(test))\n",
    "# predict = random_fores_classifier.predict(test) Если не используется StandardScaler \n",
    "\n",
    "predict = pd.DataFrame(encoder.inverse_transform(predict), columns=['f'])"
   ],
   "metadata": {
    "collapsed": false,
    "ExecuteTime": {
     "end_time": "2023-12-14T15:33:58.430517128Z",
     "start_time": "2023-12-14T15:33:58.300708694Z"
    }
   },
   "id": "4aae505b74462346"
  },
  {
   "cell_type": "markdown",
   "source": [
    "### Сохраняем результат"
   ],
   "metadata": {
    "collapsed": false
   },
   "id": "8cf65903f54c370d"
  },
  {
   "cell_type": "code",
   "execution_count": 57,
   "outputs": [],
   "source": [
    "predict.to_csv('number_8_result.csv') # Если необходимо убрать индексы используем в параметрах index=False"
   ],
   "metadata": {
    "collapsed": false,
    "ExecuteTime": {
     "end_time": "2023-12-14T15:33:58.469234523Z",
     "start_time": "2023-12-14T15:33:58.448517621Z"
    }
   },
   "id": "7393f6b0ebe7ddeb"
  },
  {
   "cell_type": "markdown",
   "source": [
    "## Number 9\n"
   ],
   "metadata": {
    "collapsed": false
   },
   "id": "1015043f045b6b62"
  },
  {
   "cell_type": "code",
   "execution_count": 58,
   "outputs": [
    {
     "data": {
      "text/plain": "    u  x  y  z\n0  21  4  5  6\n1  24  7  5  7\n2  27  9  7  5\n3  26  6  7  7\n4  22  4  7  4",
      "text/html": "<div>\n<style scoped>\n    .dataframe tbody tr th:only-of-type {\n        vertical-align: middle;\n    }\n\n    .dataframe tbody tr th {\n        vertical-align: top;\n    }\n\n    .dataframe thead th {\n        text-align: right;\n    }\n</style>\n<table border=\"1\" class=\"dataframe\">\n  <thead>\n    <tr style=\"text-align: right;\">\n      <th></th>\n      <th>u</th>\n      <th>x</th>\n      <th>y</th>\n      <th>z</th>\n    </tr>\n  </thead>\n  <tbody>\n    <tr>\n      <th>0</th>\n      <td>21</td>\n      <td>4</td>\n      <td>5</td>\n      <td>6</td>\n    </tr>\n    <tr>\n      <th>1</th>\n      <td>24</td>\n      <td>7</td>\n      <td>5</td>\n      <td>7</td>\n    </tr>\n    <tr>\n      <th>2</th>\n      <td>27</td>\n      <td>9</td>\n      <td>7</td>\n      <td>5</td>\n    </tr>\n    <tr>\n      <th>3</th>\n      <td>26</td>\n      <td>6</td>\n      <td>7</td>\n      <td>7</td>\n    </tr>\n    <tr>\n      <th>4</th>\n      <td>22</td>\n      <td>4</td>\n      <td>7</td>\n      <td>4</td>\n    </tr>\n  </tbody>\n</table>\n</div>"
     },
     "execution_count": 58,
     "metadata": {},
     "output_type": "execute_result"
    }
   ],
   "source": [
    "df_train = pd.read_csv('./data/train_9.csv')\n",
    "test = pd.read_csv('./data/test_9.csv')\n",
    "df_train.head()"
   ],
   "metadata": {
    "collapsed": false,
    "ExecuteTime": {
     "end_time": "2023-12-14T15:33:58.526289859Z",
     "start_time": "2023-12-14T15:33:58.448943724Z"
    }
   },
   "id": "91ebada7c22a8b4a"
  },
  {
   "cell_type": "markdown",
   "source": [
    "### Оценка качества моделей на валидационной выборке"
   ],
   "metadata": {
    "collapsed": false
   },
   "id": "86935eeb5e5ac66"
  },
  {
   "cell_type": "code",
   "execution_count": 59,
   "outputs": [],
   "source": [
    "X_train, y_train = df_train.drop(columns=['u']), pd.DataFrame(df_train['u'], columns=['u'])\n",
    "X_train, X_val, y_train, y_val = train_test_split(X_train, y_train)"
   ],
   "metadata": {
    "collapsed": false,
    "ExecuteTime": {
     "end_time": "2023-12-14T15:33:58.528092282Z",
     "start_time": "2023-12-14T15:33:58.469363666Z"
    }
   },
   "id": "a3355289815976ff"
  },
  {
   "cell_type": "code",
   "execution_count": 60,
   "outputs": [],
   "source": [
    "scaler = StandardScaler()\n",
    "X_train = scaler.fit_transform(X_train, y_train)"
   ],
   "metadata": {
    "collapsed": false,
    "ExecuteTime": {
     "end_time": "2023-12-14T15:33:58.529022603Z",
     "start_time": "2023-12-14T15:33:58.469717868Z"
    }
   },
   "id": "37e34e349e8432ab"
  },
  {
   "cell_type": "code",
   "execution_count": 61,
   "outputs": [
    {
     "name": "stdout",
     "output_type": "stream",
     "text": [
      "MAE linear model on validation data = 0.678897697264843\n"
     ]
    }
   ],
   "source": [
    "linear_model = LinearRegression()\n",
    "linear_model.fit(X_train, y_train.values.ravel())\n",
    "predict = linear_model.predict(scaler.transform(X_val))\n",
    "\n",
    "print('MAE linear model on validation data =', mean_absolute_error(y_val, predict))"
   ],
   "metadata": {
    "collapsed": false,
    "ExecuteTime": {
     "end_time": "2023-12-14T15:33:58.568989687Z",
     "start_time": "2023-12-14T15:33:58.470003868Z"
    }
   },
   "id": "3bf6d6f2e0dd009e"
  },
  {
   "cell_type": "code",
   "execution_count": 62,
   "outputs": [
    {
     "name": "stdout",
     "output_type": "stream",
     "text": [
      "MAE RFR model on validation data = 0.8641140500240505\n"
     ]
    }
   ],
   "source": [
    "random_forest_reg = RandomForestRegressor()\n",
    "random_forest_reg.fit(X_train, y_train)\n",
    "predict = random_forest_reg.predict(scaler.transform(X_val))\n",
    "\n",
    "print('MAE RFR model on validation data =', mean_absolute_error(y_val, predict))"
   ],
   "metadata": {
    "collapsed": false,
    "ExecuteTime": {
     "end_time": "2023-12-14T15:33:58.680422693Z",
     "start_time": "2023-12-14T15:33:58.512743975Z"
    }
   },
   "id": "458345ddb02443ec"
  },
  {
   "cell_type": "markdown",
   "source": [
    "### Предсказание с помощью линейной модели "
   ],
   "metadata": {
    "collapsed": false
   },
   "id": "e7f58c877c881049"
  },
  {
   "cell_type": "code",
   "execution_count": 63,
   "outputs": [],
   "source": [
    "X_train, y_train = df_train.drop(columns=['u']), pd.DataFrame(df_train['u'], columns=['u'])\n",
    "\n",
    "scaler = StandardScaler()\n",
    "X_train = scaler.fit_transform(X_train, y_train)\n",
    "\n",
    "linear_model = LinearRegression()\n",
    "linear_model.fit(X_train, y_train.values.ravel())\n",
    "predict = linear_model.predict(scaler.transform(test))\n",
    "\n",
    "predict = pd.DataFrame(predict, columns=['f'])"
   ],
   "metadata": {
    "collapsed": false,
    "ExecuteTime": {
     "end_time": "2023-12-14T15:33:58.734837082Z",
     "start_time": "2023-12-14T15:33:58.623126383Z"
    }
   },
   "id": "6889ec04a06b45ad"
  },
  {
   "cell_type": "markdown",
   "source": [
    "### Предсказание с помощью случайного леса"
   ],
   "metadata": {
    "collapsed": false
   },
   "id": "8eee0f3477b03383"
  },
  {
   "cell_type": "code",
   "execution_count": 64,
   "outputs": [],
   "source": [
    "X_train, y_train = df_train.drop(columns=['u']), pd.DataFrame(df_train['u'], columns=['u'])\n",
    "\n",
    "scaler = StandardScaler()\n",
    "X_train = scaler.fit_transform(X_train, y_train)\n",
    "\n",
    "random_forest_reg = RandomForestRegressor()\n",
    "random_forest_reg.fit(X_train, y_train)\n",
    "predict = random_forest_reg.predict(scaler.transform(test))\n",
    "\n",
    "predict = pd.DataFrame(predict, columns=['f'])"
   ],
   "metadata": {
    "collapsed": false,
    "ExecuteTime": {
     "end_time": "2023-12-14T15:33:58.783079325Z",
     "start_time": "2023-12-14T15:33:58.664685490Z"
    }
   },
   "id": "b8556d65ff14e394"
  },
  {
   "cell_type": "code",
   "execution_count": 65,
   "outputs": [
    {
     "data": {
      "text/plain": "            f\n0   24.380000\n1   20.401905\n2   23.529786\n3   28.373750\n4   23.736070\n..        ...\n95  24.993952\n96  23.935500\n97  30.251667\n98  18.250381\n99  23.085905\n\n[100 rows x 1 columns]",
      "text/html": "<div>\n<style scoped>\n    .dataframe tbody tr th:only-of-type {\n        vertical-align: middle;\n    }\n\n    .dataframe tbody tr th {\n        vertical-align: top;\n    }\n\n    .dataframe thead th {\n        text-align: right;\n    }\n</style>\n<table border=\"1\" class=\"dataframe\">\n  <thead>\n    <tr style=\"text-align: right;\">\n      <th></th>\n      <th>f</th>\n    </tr>\n  </thead>\n  <tbody>\n    <tr>\n      <th>0</th>\n      <td>24.380000</td>\n    </tr>\n    <tr>\n      <th>1</th>\n      <td>20.401905</td>\n    </tr>\n    <tr>\n      <th>2</th>\n      <td>23.529786</td>\n    </tr>\n    <tr>\n      <th>3</th>\n      <td>28.373750</td>\n    </tr>\n    <tr>\n      <th>4</th>\n      <td>23.736070</td>\n    </tr>\n    <tr>\n      <th>...</th>\n      <td>...</td>\n    </tr>\n    <tr>\n      <th>95</th>\n      <td>24.993952</td>\n    </tr>\n    <tr>\n      <th>96</th>\n      <td>23.935500</td>\n    </tr>\n    <tr>\n      <th>97</th>\n      <td>30.251667</td>\n    </tr>\n    <tr>\n      <th>98</th>\n      <td>18.250381</td>\n    </tr>\n    <tr>\n      <th>99</th>\n      <td>23.085905</td>\n    </tr>\n  </tbody>\n</table>\n<p>100 rows × 1 columns</p>\n</div>"
     },
     "execution_count": 65,
     "metadata": {},
     "output_type": "execute_result"
    }
   ],
   "source": [
    "predict"
   ],
   "metadata": {
    "collapsed": false,
    "ExecuteTime": {
     "end_time": "2023-12-14T15:33:58.828462264Z",
     "start_time": "2023-12-14T15:33:58.777400996Z"
    }
   },
   "id": "6a056b9e5d076ce8"
  },
  {
   "cell_type": "markdown",
   "source": [
    "### Сохраняем результат"
   ],
   "metadata": {
    "collapsed": false
   },
   "id": "819ad4194adf5249"
  },
  {
   "cell_type": "code",
   "execution_count": 66,
   "outputs": [],
   "source": [
    "predict.to_csv('number_9_result.csv') # Если необходимо убрать индексы используем в параметрах index=False"
   ],
   "metadata": {
    "collapsed": false,
    "ExecuteTime": {
     "end_time": "2023-12-14T15:33:58.829479216Z",
     "start_time": "2023-12-14T15:33:58.820805039Z"
    }
   },
   "id": "6b954d86ff968251"
  }
 ],
 "metadata": {
  "kernelspec": {
   "display_name": "Python 3",
   "language": "python",
   "name": "python3"
  },
  "language_info": {
   "codemirror_mode": {
    "name": "ipython",
    "version": 2
   },
   "file_extension": ".py",
   "mimetype": "text/x-python",
   "name": "python",
   "nbconvert_exporter": "python",
   "pygments_lexer": "ipython2",
   "version": "2.7.6"
  }
 },
 "nbformat": 4,
 "nbformat_minor": 5
}
