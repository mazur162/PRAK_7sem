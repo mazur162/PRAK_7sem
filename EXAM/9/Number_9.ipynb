{
 "cells": [
  {
   "cell_type": "code",
   "execution_count": 1,
   "id": "cdabe8cb820537fb",
   "metadata": {
    "ExecuteTime": {
     "end_time": "2023-12-14T15:33:57.951490188Z",
     "start_time": "2023-12-14T15:33:57.839713162Z"
    },
    "collapsed": false
   },
   "outputs": [],
   "source": [
    "import numpy as np\n",
    "import pandas as pd\n",
    "from sklearn.linear_model import LogisticRegression, LinearRegression\n",
    "from sklearn.ensemble import RandomForestClassifier, RandomForestRegressor\n",
    "from sklearn.preprocessing import StandardScaler, LabelEncoder\n",
    "from sklearn.metrics import accuracy_score, mean_absolute_error\n",
    "from sklearn.model_selection import train_test_split\n",
    "\n",
    "import warnings\n",
    "\n",
    "warnings.filterwarnings(\"ignore\")"
   ]
  },
  {
   "cell_type": "markdown",
   "id": "1015043f045b6b62",
   "metadata": {
    "collapsed": false
   },
   "source": [
    "## Number 9\n"
   ]
  },
  {
   "cell_type": "code",
   "execution_count": 2,
   "id": "91ebada7c22a8b4a",
   "metadata": {
    "ExecuteTime": {
     "end_time": "2023-12-14T15:33:58.526289859Z",
     "start_time": "2023-12-14T15:33:58.448943724Z"
    },
    "collapsed": false
   },
   "outputs": [
    {
     "data": {
      "text/html": [
       "<div>\n",
       "<style scoped>\n",
       "    .dataframe tbody tr th:only-of-type {\n",
       "        vertical-align: middle;\n",
       "    }\n",
       "\n",
       "    .dataframe tbody tr th {\n",
       "        vertical-align: top;\n",
       "    }\n",
       "\n",
       "    .dataframe thead th {\n",
       "        text-align: right;\n",
       "    }\n",
       "</style>\n",
       "<table border=\"1\" class=\"dataframe\">\n",
       "  <thead>\n",
       "    <tr style=\"text-align: right;\">\n",
       "      <th></th>\n",
       "      <th>u</th>\n",
       "      <th>x</th>\n",
       "      <th>y</th>\n",
       "      <th>z</th>\n",
       "    </tr>\n",
       "  </thead>\n",
       "  <tbody>\n",
       "    <tr>\n",
       "      <th>0</th>\n",
       "      <td>21</td>\n",
       "      <td>4</td>\n",
       "      <td>5</td>\n",
       "      <td>6</td>\n",
       "    </tr>\n",
       "    <tr>\n",
       "      <th>1</th>\n",
       "      <td>24</td>\n",
       "      <td>7</td>\n",
       "      <td>5</td>\n",
       "      <td>7</td>\n",
       "    </tr>\n",
       "    <tr>\n",
       "      <th>2</th>\n",
       "      <td>27</td>\n",
       "      <td>9</td>\n",
       "      <td>7</td>\n",
       "      <td>5</td>\n",
       "    </tr>\n",
       "    <tr>\n",
       "      <th>3</th>\n",
       "      <td>26</td>\n",
       "      <td>6</td>\n",
       "      <td>7</td>\n",
       "      <td>7</td>\n",
       "    </tr>\n",
       "    <tr>\n",
       "      <th>4</th>\n",
       "      <td>22</td>\n",
       "      <td>4</td>\n",
       "      <td>7</td>\n",
       "      <td>4</td>\n",
       "    </tr>\n",
       "  </tbody>\n",
       "</table>\n",
       "</div>"
      ],
      "text/plain": [
       "    u  x  y  z\n",
       "0  21  4  5  6\n",
       "1  24  7  5  7\n",
       "2  27  9  7  5\n",
       "3  26  6  7  7\n",
       "4  22  4  7  4"
      ]
     },
     "execution_count": 2,
     "metadata": {},
     "output_type": "execute_result"
    }
   ],
   "source": [
    "df_train = pd.read_csv('train_9.csv')\n",
    "test = pd.read_csv('test_9.csv')\n",
    "df_train.head()"
   ]
  },
  {
   "cell_type": "markdown",
   "id": "86935eeb5e5ac66",
   "metadata": {
    "collapsed": false
   },
   "source": [
    "### Оценка качества моделей на валидационной выборке"
   ]
  },
  {
   "cell_type": "code",
   "execution_count": 3,
   "id": "a3355289815976ff",
   "metadata": {
    "ExecuteTime": {
     "end_time": "2023-12-14T15:33:58.528092282Z",
     "start_time": "2023-12-14T15:33:58.469363666Z"
    },
    "collapsed": false
   },
   "outputs": [],
   "source": [
    "X_train, y_train = df_train.drop(columns=['u']), pd.DataFrame(df_train['u'], columns=['u'])\n",
    "X_train, X_val, y_train, y_val = train_test_split(X_train, y_train)"
   ]
  },
  {
   "cell_type": "code",
   "execution_count": 4,
   "id": "37e34e349e8432ab",
   "metadata": {
    "ExecuteTime": {
     "end_time": "2023-12-14T15:33:58.529022603Z",
     "start_time": "2023-12-14T15:33:58.469717868Z"
    },
    "collapsed": false
   },
   "outputs": [],
   "source": [
    "scaler = StandardScaler()\n",
    "X_train = scaler.fit_transform(X_train, y_train)"
   ]
  },
  {
   "cell_type": "code",
   "execution_count": 5,
   "id": "3bf6d6f2e0dd009e",
   "metadata": {
    "ExecuteTime": {
     "end_time": "2023-12-14T15:33:58.568989687Z",
     "start_time": "2023-12-14T15:33:58.470003868Z"
    },
    "collapsed": false
   },
   "outputs": [
    {
     "name": "stdout",
     "output_type": "stream",
     "text": [
      "MAE linear model on validation data = 0.5926410774797873\n"
     ]
    }
   ],
   "source": [
    "linear_model = LinearRegression()\n",
    "linear_model.fit(X_train, y_train.values.ravel())\n",
    "predict = linear_model.predict(scaler.transform(X_val))\n",
    "\n",
    "print('MAE linear model on validation data =', mean_absolute_error(y_val, predict))"
   ]
  },
  {
   "cell_type": "code",
   "execution_count": 6,
   "id": "458345ddb02443ec",
   "metadata": {
    "ExecuteTime": {
     "end_time": "2023-12-14T15:33:58.680422693Z",
     "start_time": "2023-12-14T15:33:58.512743975Z"
    },
    "collapsed": false
   },
   "outputs": [
    {
     "name": "stdout",
     "output_type": "stream",
     "text": [
      "MAE RFR model on validation data = 0.8409924590224591\n"
     ]
    }
   ],
   "source": [
    "random_forest_reg = RandomForestRegressor()\n",
    "random_forest_reg.fit(X_train, y_train)\n",
    "predict = random_forest_reg.predict(scaler.transform(X_val))\n",
    "\n",
    "print('MAE RFR model on validation data =', mean_absolute_error(y_val, predict))"
   ]
  },
  {
   "cell_type": "markdown",
   "id": "e7f58c877c881049",
   "metadata": {
    "collapsed": false
   },
   "source": [
    "### Предсказание с помощью линейной модели "
   ]
  },
  {
   "cell_type": "code",
   "execution_count": 7,
   "id": "6889ec04a06b45ad",
   "metadata": {
    "ExecuteTime": {
     "end_time": "2023-12-14T15:33:58.734837082Z",
     "start_time": "2023-12-14T15:33:58.623126383Z"
    },
    "collapsed": false
   },
   "outputs": [],
   "source": [
    "X_train, y_train = df_train.drop(columns=['u']), pd.DataFrame(df_train['u'], columns=['u'])\n",
    "\n",
    "scaler = StandardScaler()\n",
    "X_train = scaler.fit_transform(X_train, y_train)\n",
    "\n",
    "linear_model = LinearRegression()\n",
    "linear_model.fit(X_train, y_train.values.ravel())\n",
    "predict = linear_model.predict(scaler.transform(test))\n",
    "\n",
    "predict = pd.DataFrame(predict, columns=['f'])"
   ]
  },
  {
   "cell_type": "markdown",
   "id": "8eee0f3477b03383",
   "metadata": {
    "collapsed": false
   },
   "source": [
    "### Предсказание с помощью случайного леса"
   ]
  },
  {
   "cell_type": "code",
   "execution_count": 8,
   "id": "b8556d65ff14e394",
   "metadata": {
    "ExecuteTime": {
     "end_time": "2023-12-14T15:33:58.783079325Z",
     "start_time": "2023-12-14T15:33:58.664685490Z"
    },
    "collapsed": false
   },
   "outputs": [],
   "source": [
    "X_train, y_train = df_train.drop(columns=['u']), pd.DataFrame(df_train['u'], columns=['u'])\n",
    "\n",
    "scaler = StandardScaler()\n",
    "X_train = scaler.fit_transform(X_train, y_train)\n",
    "\n",
    "random_forest_reg = RandomForestRegressor()\n",
    "random_forest_reg.fit(X_train, y_train)\n",
    "predict = random_forest_reg.predict(scaler.transform(test))\n",
    "\n",
    "predict = pd.DataFrame(predict, columns=['f'])"
   ]
  },
  {
   "cell_type": "code",
   "execution_count": 9,
   "id": "6a056b9e5d076ce8",
   "metadata": {
    "ExecuteTime": {
     "end_time": "2023-12-14T15:33:58.828462264Z",
     "start_time": "2023-12-14T15:33:58.777400996Z"
    },
    "collapsed": false
   },
   "outputs": [
    {
     "data": {
      "text/html": [
       "<div>\n",
       "<style scoped>\n",
       "    .dataframe tbody tr th:only-of-type {\n",
       "        vertical-align: middle;\n",
       "    }\n",
       "\n",
       "    .dataframe tbody tr th {\n",
       "        vertical-align: top;\n",
       "    }\n",
       "\n",
       "    .dataframe thead th {\n",
       "        text-align: right;\n",
       "    }\n",
       "</style>\n",
       "<table border=\"1\" class=\"dataframe\">\n",
       "  <thead>\n",
       "    <tr style=\"text-align: right;\">\n",
       "      <th></th>\n",
       "      <th>f</th>\n",
       "    </tr>\n",
       "  </thead>\n",
       "  <tbody>\n",
       "    <tr>\n",
       "      <th>0</th>\n",
       "      <td>24.433333</td>\n",
       "    </tr>\n",
       "    <tr>\n",
       "      <th>1</th>\n",
       "      <td>20.388190</td>\n",
       "    </tr>\n",
       "    <tr>\n",
       "      <th>2</th>\n",
       "      <td>23.666286</td>\n",
       "    </tr>\n",
       "    <tr>\n",
       "      <th>3</th>\n",
       "      <td>27.685048</td>\n",
       "    </tr>\n",
       "    <tr>\n",
       "      <th>4</th>\n",
       "      <td>23.770524</td>\n",
       "    </tr>\n",
       "    <tr>\n",
       "      <th>...</th>\n",
       "      <td>...</td>\n",
       "    </tr>\n",
       "    <tr>\n",
       "      <th>95</th>\n",
       "      <td>24.973910</td>\n",
       "    </tr>\n",
       "    <tr>\n",
       "      <th>96</th>\n",
       "      <td>23.855500</td>\n",
       "    </tr>\n",
       "    <tr>\n",
       "      <th>97</th>\n",
       "      <td>30.070000</td>\n",
       "    </tr>\n",
       "    <tr>\n",
       "      <th>98</th>\n",
       "      <td>18.168493</td>\n",
       "    </tr>\n",
       "    <tr>\n",
       "      <th>99</th>\n",
       "      <td>22.987179</td>\n",
       "    </tr>\n",
       "  </tbody>\n",
       "</table>\n",
       "<p>100 rows × 1 columns</p>\n",
       "</div>"
      ],
      "text/plain": [
       "            f\n",
       "0   24.433333\n",
       "1   20.388190\n",
       "2   23.666286\n",
       "3   27.685048\n",
       "4   23.770524\n",
       "..        ...\n",
       "95  24.973910\n",
       "96  23.855500\n",
       "97  30.070000\n",
       "98  18.168493\n",
       "99  22.987179\n",
       "\n",
       "[100 rows x 1 columns]"
      ]
     },
     "execution_count": 9,
     "metadata": {},
     "output_type": "execute_result"
    }
   ],
   "source": [
    "predict"
   ]
  },
  {
   "cell_type": "markdown",
   "id": "819ad4194adf5249",
   "metadata": {
    "collapsed": false
   },
   "source": [
    "### Сохраняем результат"
   ]
  },
  {
   "cell_type": "code",
   "execution_count": 10,
   "id": "6b954d86ff968251",
   "metadata": {
    "ExecuteTime": {
     "end_time": "2023-12-14T15:33:58.829479216Z",
     "start_time": "2023-12-14T15:33:58.820805039Z"
    },
    "collapsed": false
   },
   "outputs": [],
   "source": [
    "predict.to_csv('number_9_result.csv') # Если необходимо убрать индексы используем в параметрах index=False"
   ]
  }
 ],
 "metadata": {
  "kernelspec": {
   "display_name": "Python 3",
   "language": "python",
   "name": "python3"
  },
  "language_info": {
   "codemirror_mode": {
    "name": "ipython",
    "version": 3
   },
   "file_extension": ".py",
   "mimetype": "text/x-python",
   "name": "python",
   "nbconvert_exporter": "python",
   "pygments_lexer": "ipython3",
   "version": "3.9.15"
  }
 },
 "nbformat": 4,
 "nbformat_minor": 5
}
