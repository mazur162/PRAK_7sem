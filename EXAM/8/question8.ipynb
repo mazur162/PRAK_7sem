{
  "nbformat": 4,
  "nbformat_minor": 0,
  "metadata": {
    "colab": {
      "provenance": []
    },
    "kernelspec": {
      "name": "python3",
      "display_name": "Python 3"
    },
    "language_info": {
      "name": "python"
    }
  },
  "cells": [
    {
      "cell_type": "code",
      "execution_count": 2,
      "metadata": {
        "id": "RrWWIHJQn4_-"
      },
      "outputs": [],
      "source": [
        "import torch\n",
        "import numpy as np\n",
        "import pandas as pd\n",
        "import matplotlib.pyplot as plt\n",
        "from sklearn.preprocessing import StandardScaler\n",
        "from sklearn.model_selection import train_test_split"
      ]
    },
    {
      "cell_type": "code",
      "source": [
        "train = pd.read_csv(\"/content/train_8.csv\")\n",
        "test = pd.read_csv(\"/content/test_8.csv\")"
      ],
      "metadata": {
        "id": "HllCmuWNn-OL"
      },
      "execution_count": 3,
      "outputs": []
    },
    {
      "cell_type": "code",
      "source": [
        "train.head()"
      ],
      "metadata": {
        "colab": {
          "base_uri": "https://localhost:8080/",
          "height": 204
        },
        "id": "RuauM4YeoQRX",
        "outputId": "8cc1a71e-0f65-48df-dd49-da6e0cf06296"
      },
      "execution_count": 5,
      "outputs": [
        {
          "output_type": "execute_result",
          "data": {
            "text/plain": [
              "         x1        x2        x3  f\n",
              "0  0.455058  0.146759  2.426221  D\n",
              "1  0.403961  1.402071  2.891587  B\n",
              "2  0.351298  0.095268  2.263430  C\n",
              "3  0.664298  0.600407  0.670098  A\n",
              "4  0.463471  1.633033  1.037303  D"
            ],
            "text/html": [
              "\n",
              "  <div id=\"df-3aecff74-6011-4472-95d9-00acbf011204\" class=\"colab-df-container\">\n",
              "    <div>\n",
              "<style scoped>\n",
              "    .dataframe tbody tr th:only-of-type {\n",
              "        vertical-align: middle;\n",
              "    }\n",
              "\n",
              "    .dataframe tbody tr th {\n",
              "        vertical-align: top;\n",
              "    }\n",
              "\n",
              "    .dataframe thead th {\n",
              "        text-align: right;\n",
              "    }\n",
              "</style>\n",
              "<table border=\"1\" class=\"dataframe\">\n",
              "  <thead>\n",
              "    <tr style=\"text-align: right;\">\n",
              "      <th></th>\n",
              "      <th>x1</th>\n",
              "      <th>x2</th>\n",
              "      <th>x3</th>\n",
              "      <th>f</th>\n",
              "    </tr>\n",
              "  </thead>\n",
              "  <tbody>\n",
              "    <tr>\n",
              "      <th>0</th>\n",
              "      <td>0.455058</td>\n",
              "      <td>0.146759</td>\n",
              "      <td>2.426221</td>\n",
              "      <td>D</td>\n",
              "    </tr>\n",
              "    <tr>\n",
              "      <th>1</th>\n",
              "      <td>0.403961</td>\n",
              "      <td>1.402071</td>\n",
              "      <td>2.891587</td>\n",
              "      <td>B</td>\n",
              "    </tr>\n",
              "    <tr>\n",
              "      <th>2</th>\n",
              "      <td>0.351298</td>\n",
              "      <td>0.095268</td>\n",
              "      <td>2.263430</td>\n",
              "      <td>C</td>\n",
              "    </tr>\n",
              "    <tr>\n",
              "      <th>3</th>\n",
              "      <td>0.664298</td>\n",
              "      <td>0.600407</td>\n",
              "      <td>0.670098</td>\n",
              "      <td>A</td>\n",
              "    </tr>\n",
              "    <tr>\n",
              "      <th>4</th>\n",
              "      <td>0.463471</td>\n",
              "      <td>1.633033</td>\n",
              "      <td>1.037303</td>\n",
              "      <td>D</td>\n",
              "    </tr>\n",
              "  </tbody>\n",
              "</table>\n",
              "</div>\n",
              "    <div class=\"colab-df-buttons\">\n",
              "\n",
              "  <div class=\"colab-df-container\">\n",
              "    <button class=\"colab-df-convert\" onclick=\"convertToInteractive('df-3aecff74-6011-4472-95d9-00acbf011204')\"\n",
              "            title=\"Convert this dataframe to an interactive table.\"\n",
              "            style=\"display:none;\">\n",
              "\n",
              "  <svg xmlns=\"http://www.w3.org/2000/svg\" height=\"24px\" viewBox=\"0 -960 960 960\">\n",
              "    <path d=\"M120-120v-720h720v720H120Zm60-500h600v-160H180v160Zm220 220h160v-160H400v160Zm0 220h160v-160H400v160ZM180-400h160v-160H180v160Zm440 0h160v-160H620v160ZM180-180h160v-160H180v160Zm440 0h160v-160H620v160Z\"/>\n",
              "  </svg>\n",
              "    </button>\n",
              "\n",
              "  <style>\n",
              "    .colab-df-container {\n",
              "      display:flex;\n",
              "      gap: 12px;\n",
              "    }\n",
              "\n",
              "    .colab-df-convert {\n",
              "      background-color: #E8F0FE;\n",
              "      border: none;\n",
              "      border-radius: 50%;\n",
              "      cursor: pointer;\n",
              "      display: none;\n",
              "      fill: #1967D2;\n",
              "      height: 32px;\n",
              "      padding: 0 0 0 0;\n",
              "      width: 32px;\n",
              "    }\n",
              "\n",
              "    .colab-df-convert:hover {\n",
              "      background-color: #E2EBFA;\n",
              "      box-shadow: 0px 1px 2px rgba(60, 64, 67, 0.3), 0px 1px 3px 1px rgba(60, 64, 67, 0.15);\n",
              "      fill: #174EA6;\n",
              "    }\n",
              "\n",
              "    .colab-df-buttons div {\n",
              "      margin-bottom: 4px;\n",
              "    }\n",
              "\n",
              "    [theme=dark] .colab-df-convert {\n",
              "      background-color: #3B4455;\n",
              "      fill: #D2E3FC;\n",
              "    }\n",
              "\n",
              "    [theme=dark] .colab-df-convert:hover {\n",
              "      background-color: #434B5C;\n",
              "      box-shadow: 0px 1px 3px 1px rgba(0, 0, 0, 0.15);\n",
              "      filter: drop-shadow(0px 1px 2px rgba(0, 0, 0, 0.3));\n",
              "      fill: #FFFFFF;\n",
              "    }\n",
              "  </style>\n",
              "\n",
              "    <script>\n",
              "      const buttonEl =\n",
              "        document.querySelector('#df-3aecff74-6011-4472-95d9-00acbf011204 button.colab-df-convert');\n",
              "      buttonEl.style.display =\n",
              "        google.colab.kernel.accessAllowed ? 'block' : 'none';\n",
              "\n",
              "      async function convertToInteractive(key) {\n",
              "        const element = document.querySelector('#df-3aecff74-6011-4472-95d9-00acbf011204');\n",
              "        const dataTable =\n",
              "          await google.colab.kernel.invokeFunction('convertToInteractive',\n",
              "                                                    [key], {});\n",
              "        if (!dataTable) return;\n",
              "\n",
              "        const docLinkHtml = 'Like what you see? Visit the ' +\n",
              "          '<a target=\"_blank\" href=https://colab.research.google.com/notebooks/data_table.ipynb>data table notebook</a>'\n",
              "          + ' to learn more about interactive tables.';\n",
              "        element.innerHTML = '';\n",
              "        dataTable['output_type'] = 'display_data';\n",
              "        await google.colab.output.renderOutput(dataTable, element);\n",
              "        const docLink = document.createElement('div');\n",
              "        docLink.innerHTML = docLinkHtml;\n",
              "        element.appendChild(docLink);\n",
              "      }\n",
              "    </script>\n",
              "  </div>\n",
              "\n",
              "\n",
              "<div id=\"df-277699b8-8e95-463f-8124-dced50d650a0\">\n",
              "  <button class=\"colab-df-quickchart\" onclick=\"quickchart('df-277699b8-8e95-463f-8124-dced50d650a0')\"\n",
              "            title=\"Suggest charts\"\n",
              "            style=\"display:none;\">\n",
              "\n",
              "<svg xmlns=\"http://www.w3.org/2000/svg\" height=\"24px\"viewBox=\"0 0 24 24\"\n",
              "     width=\"24px\">\n",
              "    <g>\n",
              "        <path d=\"M19 3H5c-1.1 0-2 .9-2 2v14c0 1.1.9 2 2 2h14c1.1 0 2-.9 2-2V5c0-1.1-.9-2-2-2zM9 17H7v-7h2v7zm4 0h-2V7h2v10zm4 0h-2v-4h2v4z\"/>\n",
              "    </g>\n",
              "</svg>\n",
              "  </button>\n",
              "\n",
              "<style>\n",
              "  .colab-df-quickchart {\n",
              "      --bg-color: #E8F0FE;\n",
              "      --fill-color: #1967D2;\n",
              "      --hover-bg-color: #E2EBFA;\n",
              "      --hover-fill-color: #174EA6;\n",
              "      --disabled-fill-color: #AAA;\n",
              "      --disabled-bg-color: #DDD;\n",
              "  }\n",
              "\n",
              "  [theme=dark] .colab-df-quickchart {\n",
              "      --bg-color: #3B4455;\n",
              "      --fill-color: #D2E3FC;\n",
              "      --hover-bg-color: #434B5C;\n",
              "      --hover-fill-color: #FFFFFF;\n",
              "      --disabled-bg-color: #3B4455;\n",
              "      --disabled-fill-color: #666;\n",
              "  }\n",
              "\n",
              "  .colab-df-quickchart {\n",
              "    background-color: var(--bg-color);\n",
              "    border: none;\n",
              "    border-radius: 50%;\n",
              "    cursor: pointer;\n",
              "    display: none;\n",
              "    fill: var(--fill-color);\n",
              "    height: 32px;\n",
              "    padding: 0;\n",
              "    width: 32px;\n",
              "  }\n",
              "\n",
              "  .colab-df-quickchart:hover {\n",
              "    background-color: var(--hover-bg-color);\n",
              "    box-shadow: 0 1px 2px rgba(60, 64, 67, 0.3), 0 1px 3px 1px rgba(60, 64, 67, 0.15);\n",
              "    fill: var(--button-hover-fill-color);\n",
              "  }\n",
              "\n",
              "  .colab-df-quickchart-complete:disabled,\n",
              "  .colab-df-quickchart-complete:disabled:hover {\n",
              "    background-color: var(--disabled-bg-color);\n",
              "    fill: var(--disabled-fill-color);\n",
              "    box-shadow: none;\n",
              "  }\n",
              "\n",
              "  .colab-df-spinner {\n",
              "    border: 2px solid var(--fill-color);\n",
              "    border-color: transparent;\n",
              "    border-bottom-color: var(--fill-color);\n",
              "    animation:\n",
              "      spin 1s steps(1) infinite;\n",
              "  }\n",
              "\n",
              "  @keyframes spin {\n",
              "    0% {\n",
              "      border-color: transparent;\n",
              "      border-bottom-color: var(--fill-color);\n",
              "      border-left-color: var(--fill-color);\n",
              "    }\n",
              "    20% {\n",
              "      border-color: transparent;\n",
              "      border-left-color: var(--fill-color);\n",
              "      border-top-color: var(--fill-color);\n",
              "    }\n",
              "    30% {\n",
              "      border-color: transparent;\n",
              "      border-left-color: var(--fill-color);\n",
              "      border-top-color: var(--fill-color);\n",
              "      border-right-color: var(--fill-color);\n",
              "    }\n",
              "    40% {\n",
              "      border-color: transparent;\n",
              "      border-right-color: var(--fill-color);\n",
              "      border-top-color: var(--fill-color);\n",
              "    }\n",
              "    60% {\n",
              "      border-color: transparent;\n",
              "      border-right-color: var(--fill-color);\n",
              "    }\n",
              "    80% {\n",
              "      border-color: transparent;\n",
              "      border-right-color: var(--fill-color);\n",
              "      border-bottom-color: var(--fill-color);\n",
              "    }\n",
              "    90% {\n",
              "      border-color: transparent;\n",
              "      border-bottom-color: var(--fill-color);\n",
              "    }\n",
              "  }\n",
              "</style>\n",
              "\n",
              "  <script>\n",
              "    async function quickchart(key) {\n",
              "      const quickchartButtonEl =\n",
              "        document.querySelector('#' + key + ' button');\n",
              "      quickchartButtonEl.disabled = true;  // To prevent multiple clicks.\n",
              "      quickchartButtonEl.classList.add('colab-df-spinner');\n",
              "      try {\n",
              "        const charts = await google.colab.kernel.invokeFunction(\n",
              "            'suggestCharts', [key], {});\n",
              "      } catch (error) {\n",
              "        console.error('Error during call to suggestCharts:', error);\n",
              "      }\n",
              "      quickchartButtonEl.classList.remove('colab-df-spinner');\n",
              "      quickchartButtonEl.classList.add('colab-df-quickchart-complete');\n",
              "    }\n",
              "    (() => {\n",
              "      let quickchartButtonEl =\n",
              "        document.querySelector('#df-277699b8-8e95-463f-8124-dced50d650a0 button');\n",
              "      quickchartButtonEl.style.display =\n",
              "        google.colab.kernel.accessAllowed ? 'block' : 'none';\n",
              "    })();\n",
              "  </script>\n",
              "</div>\n",
              "    </div>\n",
              "  </div>\n"
            ]
          },
          "metadata": {},
          "execution_count": 5
        }
      ]
    },
    {
      "cell_type": "code",
      "source": [
        "X = np.array(train[[\"x1\", \"x2\", \"x3\"]])\n",
        "y = np.array(train[\"f\"])\n",
        "X_test = np.array(test[[\"x1\", \"x2\", \"x3\"]])\n",
        "X_train, X_val, y_train, y_val = train_test_split(X, y, test_size=0.3, random_state=42)"
      ],
      "metadata": {
        "id": "0PYowHqHoMcU"
      },
      "execution_count": 16,
      "outputs": []
    },
    {
      "cell_type": "code",
      "source": [
        "scaler = StandardScaler()\n",
        "X_train_scaled = scaler.fit_transform(X_train)\n",
        "X_val_scaled = scaler.transform(X_val)\n",
        "X_test_scaled = scaler.transform(X_test)"
      ],
      "metadata": {
        "id": "Gdo_0NwZod-q"
      },
      "execution_count": 17,
      "outputs": []
    },
    {
      "cell_type": "code",
      "source": [
        "def label2id(x):\n",
        "    x[x == 'A'] = 0\n",
        "    x[x == 'B'] = 1\n",
        "    x[x == 'C'] = 2\n",
        "    x[x == 'D'] = 3"
      ],
      "metadata": {
        "id": "5wFToLxZozoa"
      },
      "execution_count": 19,
      "outputs": []
    },
    {
      "cell_type": "code",
      "source": [
        "def id2label(x):\n",
        "    x[x == 0] = 'A'\n",
        "    x[x == 1] = 'B'\n",
        "    x[x == 2] = 'C'\n",
        "    x[x == 3] = 'D'"
      ],
      "metadata": {
        "id": "5yniY3VUqBfR"
      },
      "execution_count": 25,
      "outputs": []
    },
    {
      "cell_type": "code",
      "source": [
        "label2id(y_train)\n",
        "label2id(y_val)"
      ],
      "metadata": {
        "id": "3v-D2xi1o8ge"
      },
      "execution_count": 20,
      "outputs": []
    },
    {
      "cell_type": "markdown",
      "source": [
        "# LogisticRegression"
      ],
      "metadata": {
        "id": "n1OzANHdpV2f"
      }
    },
    {
      "cell_type": "code",
      "source": [
        "from sklearn.linear_model import LogisticRegression\n",
        "clf = LogisticRegression(random_state=0).fit(X_train_scaled, y_train.astype(np.float64))\n",
        "clf.score(X_train_scaled, y_train.astype(np.float64))"
      ],
      "metadata": {
        "colab": {
          "base_uri": "https://localhost:8080/"
        },
        "id": "0o4jIk4FpFKS",
        "outputId": "d30ee8a6-bf7d-4d92-b2ec-02c4f3955513"
      },
      "execution_count": 21,
      "outputs": [
        {
          "output_type": "execute_result",
          "data": {
            "text/plain": [
              "0.9428571428571428"
            ]
          },
          "metadata": {},
          "execution_count": 21
        }
      ]
    },
    {
      "cell_type": "code",
      "source": [
        "answer = clf.predict(X_test_scaled)\n",
        "ans = pd.DataFrame(answer)\n",
        "id2label(ans)\n",
        "ans.to_csv(\"test.csv\", index=False)"
      ],
      "metadata": {
        "id": "y3H4rw3Ip7ar"
      },
      "execution_count": 26,
      "outputs": []
    },
    {
      "cell_type": "markdown",
      "source": [
        "# ConvNet"
      ],
      "metadata": {
        "id": "iJa_ERElpR9y"
      }
    },
    {
      "cell_type": "code",
      "source": [
        "class ConvNet(torch.nn.Module):\n",
        "\n",
        "    def __init__(self, n_classes=4, dropout_p=0.0):\n",
        "        '''\n",
        "        :param int n_classes: Число выходных признаков\n",
        "        :param bool use_batchnorm: Использовать ли батчнорм между свёрточными слоями\n",
        "        :param float dropout_p: Вероятность обнуления активации слоем Dropout\n",
        "        '''\n",
        "        super().__init__()\n",
        "\n",
        "        self.n_classes = n_classes\n",
        "\n",
        "        ### your code here\n",
        "        self.dropout_p = dropout_p\n",
        "        self.classifier = torch.nn.Sequential(\n",
        "            torch.nn.Linear(3, 512),\n",
        "            torch.nn.ReLU(),\n",
        "            torch.nn.Dropout(p=dropout_p),\n",
        "            torch.nn.Linear(512, 512),\n",
        "            torch.nn.ReLU(),\n",
        "            torch.nn.Dropout(p=dropout_p),\n",
        "            torch.nn.Linear(512, 512),\n",
        "            torch.nn.ReLU(),\n",
        "            torch.nn.Dropout(p=dropout_p),\n",
        "            torch.nn.Linear(512, 512),\n",
        "            torch.nn.ReLU(),\n",
        "            torch.nn.Dropout(p=dropout_p),\n",
        "            torch.nn.Linear(512, self.n_classes)\n",
        "            )\n",
        "\n",
        "    def forward(self, x: torch.Tensor) -> torch.Tensor:\n",
        "        classifier_layer = self.classifier(x)\n",
        "        return classifier_layer"
      ],
      "metadata": {
        "id": "48sOi7rPolZ1"
      },
      "execution_count": 28,
      "outputs": []
    },
    {
      "cell_type": "code",
      "source": [
        "dense_network = ConvNet()\n",
        "loss_fn = torch.nn.CrossEntropyLoss()\n",
        "optimizer = torch.optim.SGD(dense_network.parameters(), lr=2e-2)"
      ],
      "metadata": {
        "id": "MmujGTdCopA_"
      },
      "execution_count": 29,
      "outputs": []
    },
    {
      "cell_type": "code",
      "source": [
        "device = torch.device('cpu')\n",
        "dense_network.to(device)"
      ],
      "metadata": {
        "colab": {
          "base_uri": "https://localhost:8080/"
        },
        "id": "oAPfGpvvorbY",
        "outputId": "5eebcef7-2c11-4c55-9c7d-c1b3ef300d3f"
      },
      "execution_count": 30,
      "outputs": [
        {
          "output_type": "execute_result",
          "data": {
            "text/plain": [
              "ConvNet(\n",
              "  (classifier): Sequential(\n",
              "    (0): Linear(in_features=3, out_features=512, bias=True)\n",
              "    (1): ReLU()\n",
              "    (2): Dropout(p=0.0, inplace=False)\n",
              "    (3): Linear(in_features=512, out_features=512, bias=True)\n",
              "    (4): ReLU()\n",
              "    (5): Dropout(p=0.0, inplace=False)\n",
              "    (6): Linear(in_features=512, out_features=512, bias=True)\n",
              "    (7): ReLU()\n",
              "    (8): Dropout(p=0.0, inplace=False)\n",
              "    (9): Linear(in_features=512, out_features=512, bias=True)\n",
              "    (10): ReLU()\n",
              "    (11): Dropout(p=0.0, inplace=False)\n",
              "    (12): Linear(in_features=512, out_features=4, bias=True)\n",
              "  )\n",
              ")"
            ]
          },
          "metadata": {},
          "execution_count": 30
        }
      ]
    },
    {
      "cell_type": "code",
      "source": [
        "import tqdm.notebook as tqdm\n",
        "from functools import partial"
      ],
      "metadata": {
        "id": "QZOHO2F0otPC"
      },
      "execution_count": 31,
      "outputs": []
    },
    {
      "cell_type": "code",
      "source": [
        "import tqdm.notebook as tqdm\n",
        "\n",
        "def training_loop(n_epochs, network, loss_fn, optimizer, ds_train, ds_test, device):\n",
        "    '''\n",
        "    :param int n_epochs: Число итераций оптимизации\n",
        "    :param torch.nn.Module network: Нейронная сеть\n",
        "    :param Callable loss_fn: Функция потерь\n",
        "    :param torch.nn.Optimizer optimizer: Оптимизатор\n",
        "    :param Tuple[torch.Tensor, torch.Tensor] ds_train: Признаки и метки истинного класса обучающей выборки\n",
        "    :param Tuple[torch.Tensor, torch.Tensor] ds_test: Признаки и метки истинного класса тестовой выборки\n",
        "    :param torch.Device device: Устройство на котором будут происходить вычисления\n",
        "    :returns: Списки значений функции потерь и точности на обучающей и тестовой выборках после каждой итерации\n",
        "    '''\n",
        "\n",
        "    train_losses, test_losses, train_accuracies, test_accuracies = [], [], [], []\n",
        "    for epoch in tqdm.tqdm(range(n_epochs), total=n_epochs, leave=True):\n",
        "        # Переводим сеть в режим обучения\n",
        "        ### your code here\n",
        "\n",
        "        network = network.train()\n",
        "        # Итерация обучения сети\n",
        "        def closure():\n",
        "            '''\n",
        "            Функция-замыкания для подсчёта градиентов функции потерь по обучающей выборке:\n",
        "                1. Отчистка текущих градиентов\n",
        "                2. Выполнение прямого прохода по сети в вычисление функции потерь\n",
        "                3. Вычисление градиентов функции потерь\n",
        "            :returns: Значение функции потерь\n",
        "            '''\n",
        "            optimizer.zero_grad() # зануление градиентов\n",
        "            network_out = network(ds_train[0].to(device)) #проход\n",
        "            loss = loss_fn(network_out, ds_train[1].to(device))\n",
        "            train_losses.append(loss.item())\n",
        "            train_accuracies.append((torch.argmax(network_out, dim=1) == ds_train[1]).float().mean().item()*100)\n",
        "            loss.backward()\n",
        "            return loss\n",
        "\n",
        "            ### your code here\n",
        "\n",
        "        # Шаг оптимизации\n",
        "        ### your code here\n",
        "        optimizer.step(closure)\n",
        "        # Переводим сеть в инференс режим\n",
        "        ### your code here\n",
        "        network.eval()\n",
        "        # При тестировании сети нет необходимости считать градиенты, поэтому можно отключить автоматическое дифференцирование\n",
        "        #   для ускорения операций\n",
        "        with torch.no_grad():\n",
        "            # Вычисление качества и функции потерь на обучающей выборке\n",
        "            ### your code here\n",
        "            network_out = network(ds_test[0].to(device))\n",
        "            loss = loss_fn(network_out, ds_test[1].to(device))\n",
        "            # Вычисление качества и функции потерь на тестовой выборке\n",
        "            ### your code here\n",
        "            test_losses.append(loss.item())\n",
        "            test_accuracies.append((torch.argmax(network_out, dim=1) == ds_test[1].to(device)).float().mean().item()*100)\n",
        "            if epoch % 1 == 0:\n",
        "                print(\n",
        "                    'Loss (Train/Test): {0:.3f}/{1:.3f}. Accuracy, % (Train/Test): {2:.2f}/{3:.2f}'.format(\n",
        "                        train_losses[-1], test_losses[-1], train_accuracies[-1], test_accuracies[-1]\n",
        "                    )\n",
        "                )\n",
        "\n",
        "    return train_losses, test_losses, train_accuracies, test_accuracies"
      ],
      "metadata": {
        "id": "tncHiqYFovve"
      },
      "execution_count": 32,
      "outputs": []
    },
    {
      "cell_type": "code",
      "source": [
        "ds_train=(torch.from_numpy(X_train_scaled.astype(np.float32)), torch.from_numpy(y_train.astype(np.float32)).type(torch.LongTensor))\n",
        "ds_test=(torch.from_numpy(X_val_scaled.astype(np.float32)), torch.from_numpy(y_val.astype(np.float32)).type(torch.LongTensor))"
      ],
      "metadata": {
        "id": "AKiHgWTdpnCg"
      },
      "execution_count": 33,
      "outputs": []
    },
    {
      "cell_type": "code",
      "source": [
        "train_losses, test_losses, train_accs, test_accs = training_loop(\n",
        "    n_epochs=800, network=dense_network, loss_fn=loss_fn,\n",
        "    optimizer=optimizer, ds_train=ds_train, ds_test=ds_test, device=device\n",
        ")"
      ],
      "metadata": {
        "id": "PdzyCApOpomh"
      },
      "execution_count": null,
      "outputs": []
    },
    {
      "cell_type": "code",
      "source": [
        "y_test = dense_network(torch.from_numpy(X_test_scaled.astype(np.float32)))\n",
        "answer = torch.argmax(y_test, dim=1).numpy()"
      ],
      "metadata": {
        "id": "RdNc2xDEptxC"
      },
      "execution_count": 35,
      "outputs": []
    },
    {
      "cell_type": "code",
      "source": [
        "y_pred = dense_network(torch.from_numpy(X_val_scaled.astype(np.float32)))\n",
        "y_pred = torch.argmax(y_pred, dim=1).numpy()"
      ],
      "metadata": {
        "id": "9n0aizg2qpRl"
      },
      "execution_count": 38,
      "outputs": []
    },
    {
      "cell_type": "code",
      "source": [
        "(y_pred == y_val).sum() / len(y_pred)"
      ],
      "metadata": {
        "colab": {
          "base_uri": "https://localhost:8080/"
        },
        "id": "-1_shYC6qz8e",
        "outputId": "00e327fe-0265-4b0e-b85e-6a1a472d846d"
      },
      "execution_count": 41,
      "outputs": [
        {
          "output_type": "execute_result",
          "data": {
            "text/plain": [
              "0.9555555555555556"
            ]
          },
          "metadata": {},
          "execution_count": 41
        }
      ]
    },
    {
      "cell_type": "code",
      "source": [
        "ans = pd.DataFrame(answer)\n",
        "id2label(ans)\n",
        "ans.to_csv(\"testconv.csv\", index=False)"
      ],
      "metadata": {
        "id": "d476ZMboqomG"
      },
      "execution_count": 36,
      "outputs": []
    }
  ]
}