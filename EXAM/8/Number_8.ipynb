{
 "cells": [
  {
   "cell_type": "code",
   "execution_count": 1,
   "id": "cdabe8cb820537fb",
   "metadata": {
    "ExecuteTime": {
     "end_time": "2023-12-14T15:33:57.951490188Z",
     "start_time": "2023-12-14T15:33:57.839713162Z"
    },
    "collapsed": false
   },
   "outputs": [],
   "source": [
    "import numpy as np\n",
    "import pandas as pd\n",
    "from sklearn.linear_model import LogisticRegression, LinearRegression\n",
    "from sklearn.ensemble import RandomForestClassifier, RandomForestRegressor\n",
    "from sklearn.preprocessing import StandardScaler, LabelEncoder\n",
    "from sklearn.metrics import accuracy_score, mean_absolute_error\n",
    "from sklearn.model_selection import train_test_split\n",
    "\n",
    "import warnings\n",
    "\n",
    "warnings.filterwarnings(\"ignore\")"
   ]
  },
  {
   "cell_type": "markdown",
   "id": "e50acdc5d44d8d4b",
   "metadata": {
    "collapsed": false
   },
   "source": [
    "## Number 8"
   ]
  },
  {
   "cell_type": "markdown",
   "id": "9d0732ebaabbba34",
   "metadata": {
    "collapsed": false
   },
   "source": [
    "**Описание**\n",
    "\n",
    "Используем два метода: логистическая регрессия и случайный лес (для разнообразия вариантов выполнения задания).\n",
    "\n",
    "\n",
    "LabelEncoder используется, чтобы преобразовать метки классов (A, B, C ...) в числа, чтобы модель могла работать с ними.\n",
    "\n",
    "\n",
    "StandardScaler не обязателен к использованию, можно убрать при желании."
   ]
  },
  {
   "cell_type": "markdown",
   "id": "55056de61f8c13ac",
   "metadata": {
    "collapsed": false
   },
   "source": [
    "### Загрузка данных"
   ]
  },
  {
   "cell_type": "code",
   "execution_count": 2,
   "id": "30724e9a8c6eab48",
   "metadata": {
    "ExecuteTime": {
     "end_time": "2023-12-14T15:33:58.000018226Z",
     "start_time": "2023-12-14T15:33:57.956149263Z"
    },
    "collapsed": false
   },
   "outputs": [
    {
     "data": {
      "text/html": [
       "<div>\n",
       "<style scoped>\n",
       "    .dataframe tbody tr th:only-of-type {\n",
       "        vertical-align: middle;\n",
       "    }\n",
       "\n",
       "    .dataframe tbody tr th {\n",
       "        vertical-align: top;\n",
       "    }\n",
       "\n",
       "    .dataframe thead th {\n",
       "        text-align: right;\n",
       "    }\n",
       "</style>\n",
       "<table border=\"1\" class=\"dataframe\">\n",
       "  <thead>\n",
       "    <tr style=\"text-align: right;\">\n",
       "      <th></th>\n",
       "      <th>x1</th>\n",
       "      <th>x2</th>\n",
       "      <th>x3</th>\n",
       "      <th>f</th>\n",
       "    </tr>\n",
       "  </thead>\n",
       "  <tbody>\n",
       "    <tr>\n",
       "      <th>0</th>\n",
       "      <td>0.455058</td>\n",
       "      <td>0.146759</td>\n",
       "      <td>2.426221</td>\n",
       "      <td>D</td>\n",
       "    </tr>\n",
       "    <tr>\n",
       "      <th>1</th>\n",
       "      <td>0.403961</td>\n",
       "      <td>1.402071</td>\n",
       "      <td>2.891587</td>\n",
       "      <td>B</td>\n",
       "    </tr>\n",
       "    <tr>\n",
       "      <th>2</th>\n",
       "      <td>0.351298</td>\n",
       "      <td>0.095268</td>\n",
       "      <td>2.263430</td>\n",
       "      <td>C</td>\n",
       "    </tr>\n",
       "    <tr>\n",
       "      <th>3</th>\n",
       "      <td>0.664298</td>\n",
       "      <td>0.600407</td>\n",
       "      <td>0.670098</td>\n",
       "      <td>A</td>\n",
       "    </tr>\n",
       "    <tr>\n",
       "      <th>4</th>\n",
       "      <td>0.463471</td>\n",
       "      <td>1.633033</td>\n",
       "      <td>1.037303</td>\n",
       "      <td>D</td>\n",
       "    </tr>\n",
       "  </tbody>\n",
       "</table>\n",
       "</div>"
      ],
      "text/plain": [
       "         x1        x2        x3  f\n",
       "0  0.455058  0.146759  2.426221  D\n",
       "1  0.403961  1.402071  2.891587  B\n",
       "2  0.351298  0.095268  2.263430  C\n",
       "3  0.664298  0.600407  0.670098  A\n",
       "4  0.463471  1.633033  1.037303  D"
      ]
     },
     "execution_count": 2,
     "metadata": {},
     "output_type": "execute_result"
    }
   ],
   "source": [
    "df_train = pd.read_csv('train_8.csv')\n",
    "test = pd.read_csv('test_8.csv')\n",
    "df_train.head()"
   ]
  },
  {
   "cell_type": "markdown",
   "id": "b5c755b76f895422",
   "metadata": {
    "collapsed": false
   },
   "source": [
    "### Оценка качества моделей на валидационной выборке"
   ]
  },
  {
   "cell_type": "code",
   "execution_count": 3,
   "id": "66e3d982d9e7af3e",
   "metadata": {
    "ExecuteTime": {
     "end_time": "2023-12-14T15:33:58.005428636Z",
     "start_time": "2023-12-14T15:33:57.999777112Z"
    },
    "collapsed": false
   },
   "outputs": [],
   "source": [
    "encoder = LabelEncoder()\n",
    "X_train, y_train = df_train.drop(columns=['f']), pd.DataFrame(encoder.fit_transform(df_train['f']), columns=['f'])\n",
    "X_train, X_val, y_train, y_val = train_test_split(X_train, y_train)"
   ]
  },
  {
   "cell_type": "code",
   "execution_count": 4,
   "id": "5ebf8d51ecd19b2a",
   "metadata": {
    "ExecuteTime": {
     "end_time": "2023-12-14T15:33:58.017898302Z",
     "start_time": "2023-12-14T15:33:58.005299004Z"
    },
    "collapsed": false
   },
   "outputs": [],
   "source": [
    "scaler = StandardScaler()\n",
    "X_train = scaler.fit_transform(X_train, y_train)"
   ]
  },
  {
   "cell_type": "code",
   "execution_count": 5,
   "id": "b0692ec5773c0003",
   "metadata": {
    "ExecuteTime": {
     "end_time": "2023-12-14T15:33:58.075620926Z",
     "start_time": "2023-12-14T15:33:58.013936812Z"
    },
    "collapsed": false
   },
   "outputs": [],
   "source": [
    "linear_model = LogisticRegression()\n",
    "linear_model.fit(X_train, y_train.values.ravel())\n",
    "predict = linear_model.predict(scaler.transform(X_val))"
   ]
  },
  {
   "cell_type": "code",
   "execution_count": 6,
   "id": "cd8d93308a929d29",
   "metadata": {
    "ExecuteTime": {
     "end_time": "2023-12-14T15:33:58.142386797Z",
     "start_time": "2023-12-14T15:33:58.039537428Z"
    },
    "collapsed": false
   },
   "outputs": [
    {
     "name": "stdout",
     "output_type": "stream",
     "text": [
      "Accuracy linear model on validation data = 0.9466666666666667\n"
     ]
    }
   ],
   "source": [
    "print('Accuracy linear model on validation data =', accuracy_score(encoder.inverse_transform(y_val), encoder.inverse_transform(predict)))"
   ]
  },
  {
   "cell_type": "code",
   "execution_count": 7,
   "id": "9a17d662602a359a",
   "metadata": {
    "ExecuteTime": {
     "end_time": "2023-12-14T15:33:58.257630511Z",
     "start_time": "2023-12-14T15:33:58.076549572Z"
    },
    "collapsed": false
   },
   "outputs": [],
   "source": [
    "random_fores_classifier = RandomForestClassifier()\n",
    "random_fores_classifier.fit(X_train, y_train)\n",
    "predict = random_fores_classifier.predict(scaler.transform(X_val))"
   ]
  },
  {
   "cell_type": "code",
   "execution_count": 8,
   "id": "632e2e44d42a108f",
   "metadata": {
    "ExecuteTime": {
     "end_time": "2023-12-14T15:33:58.306855988Z",
     "start_time": "2023-12-14T15:33:58.228689130Z"
    },
    "collapsed": false
   },
   "outputs": [
    {
     "name": "stdout",
     "output_type": "stream",
     "text": [
      "Accuracy RFC model on validation data = 0.8666666666666667\n"
     ]
    }
   ],
   "source": [
    "print('Accuracy RFC model on validation data =', accuracy_score(encoder.inverse_transform(y_val), encoder.inverse_transform(predict)))"
   ]
  },
  {
   "cell_type": "markdown",
   "id": "66b42daa21e0b9ef",
   "metadata": {
    "collapsed": false
   },
   "source": [
    "### Предсказание с помощью линейной модели "
   ]
  },
  {
   "cell_type": "code",
   "execution_count": 9,
   "id": "ed298849741a768a",
   "metadata": {
    "ExecuteTime": {
     "end_time": "2023-12-14T15:33:58.307997546Z",
     "start_time": "2023-12-14T15:33:58.257384161Z"
    },
    "collapsed": false
   },
   "outputs": [],
   "source": [
    "encoder = LabelEncoder()\n",
    "X_train, y_train = df_train.drop(columns=['f']), pd.DataFrame(encoder.fit_transform(df_train['f']), columns=['f'])\n",
    "\n",
    "scaler = StandardScaler() # Используем по желанию\n",
    "X_train = scaler.fit_transform(X_train, y_train)\n",
    "\n",
    "linear_model = LogisticRegression()\n",
    "linear_model.fit(X_train, y_train.values.ravel())\n",
    "predict = linear_model.predict(scaler.transform(test))\n",
    "# predict = linear_model.predict(test) Если не используется StandardScaler \n",
    "\n",
    "predict = pd.DataFrame(encoder.inverse_transform(predict), columns=['f'])"
   ]
  },
  {
   "cell_type": "markdown",
   "id": "cd6714ef644a467e",
   "metadata": {
    "collapsed": false
   },
   "source": []
  },
  {
   "cell_type": "markdown",
   "id": "864bcb7a7b843cf8",
   "metadata": {
    "collapsed": false
   },
   "source": [
    "### Предсказание с помощью случайного леса"
   ]
  },
  {
   "cell_type": "code",
   "execution_count": 10,
   "id": "4aae505b74462346",
   "metadata": {
    "ExecuteTime": {
     "end_time": "2023-12-14T15:33:58.430517128Z",
     "start_time": "2023-12-14T15:33:58.300708694Z"
    },
    "collapsed": false
   },
   "outputs": [],
   "source": [
    "encoder = LabelEncoder()\n",
    "X_train, y_train = df_train.drop(columns=['f']), pd.DataFrame(encoder.fit_transform(df_train['f']), columns=['f'])\n",
    "\n",
    "scaler = StandardScaler() # Используем по желанию\n",
    "X_train = scaler.fit_transform(X_train, y_train)\n",
    "\n",
    "random_fores_classifier = RandomForestClassifier()\n",
    "random_fores_classifier.fit(X_train, y_train)\n",
    "predict = random_fores_classifier.predict(scaler.transform(test))\n",
    "# predict = random_fores_classifier.predict(test) Если не используется StandardScaler \n",
    "\n",
    "predict = pd.DataFrame(encoder.inverse_transform(predict), columns=['f'])"
   ]
  },
  {
   "cell_type": "markdown",
   "id": "8cf65903f54c370d",
   "metadata": {
    "collapsed": false
   },
   "source": [
    "### Сохраняем результат"
   ]
  },
  {
   "cell_type": "code",
   "execution_count": 11,
   "id": "7393f6b0ebe7ddeb",
   "metadata": {
    "ExecuteTime": {
     "end_time": "2023-12-14T15:33:58.469234523Z",
     "start_time": "2023-12-14T15:33:58.448517621Z"
    },
    "collapsed": false
   },
   "outputs": [],
   "source": [
    "predict.to_csv('number_8_result.csv') # Если необходимо убрать индексы используем в параметрах index=False"
   ]
  }
 ],
 "metadata": {
  "kernelspec": {
   "display_name": "Python 3",
   "language": "python",
   "name": "python3"
  },
  "language_info": {
   "codemirror_mode": {
    "name": "ipython",
    "version": 3
   },
   "file_extension": ".py",
   "mimetype": "text/x-python",
   "name": "python",
   "nbconvert_exporter": "python",
   "pygments_lexer": "ipython3",
   "version": "3.9.15"
  }
 },
 "nbformat": 4,
 "nbformat_minor": 5
}
